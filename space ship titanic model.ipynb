{
 "cells": [
  {
   "cell_type": "code",
   "execution_count": 1,
   "id": "cdc3236d",
   "metadata": {
    "execution": {
     "iopub.execute_input": "2023-05-01T18:07:06.574309Z",
     "iopub.status.busy": "2023-05-01T18:07:06.573886Z",
     "iopub.status.idle": "2023-05-01T18:07:07.939293Z",
     "shell.execute_reply": "2023-05-01T18:07:07.937919Z"
    },
    "papermill": {
     "duration": 1.384675,
     "end_time": "2023-05-01T18:07:07.942743",
     "exception": false,
     "start_time": "2023-05-01T18:07:06.558068",
     "status": "completed"
    },
    "tags": []
   },
   "outputs": [],
   "source": [
    "import numpy as np \n",
    "import pandas as pd \n",
    "import pandas as pd\n",
    "import requests\n",
    "import seaborn as sns\n",
    "import matplotlib.pyplot as plt\n",
    "from sklearn.preprocessing import LabelEncoder\n",
    "from sklearn.preprocessing import StandardScaler\n",
    "def count_unique_values(df, column_name):\n",
    "    unique_values = df[column_name].nunique()\n",
    "    return unique_values"
   ]
  },
  {
   "cell_type": "markdown",
   "id": "b41564f6",
   "metadata": {
    "_cell_guid": "b1076dfc-b9ad-4769-8c92-a6c4dae69d19",
    "_uuid": "8f2839f25d086af736a60e9eeb907d3b93b6e0e5",
    "papermill": {
     "duration": 0.007832,
     "end_time": "2023-05-01T18:07:07.959066",
     "exception": false,
     "start_time": "2023-05-01T18:07:07.951234",
     "status": "completed"
    },
    "tags": []
   },
   "source": [
    "In this notebook we will be tackling the spaceship titanic problem.\n",
    "I will be using different classification models on the data and then comparing them in order to come up with the most fit model for this dataset. First I'll start by analyzing the data and seeing if transformations are needed\n"
   ]
  },
  {
   "cell_type": "code",
   "execution_count": 2,
   "id": "7ae8e645",
   "metadata": {
    "execution": {
     "iopub.execute_input": "2023-05-01T18:07:07.978339Z",
     "iopub.status.busy": "2023-05-01T18:07:07.977751Z",
     "iopub.status.idle": "2023-05-01T18:07:08.077444Z",
     "shell.execute_reply": "2023-05-01T18:07:08.076537Z"
    },
    "papermill": {
     "duration": 0.116048,
     "end_time": "2023-05-01T18:07:08.083313",
     "exception": false,
     "start_time": "2023-05-01T18:07:07.967265",
     "status": "completed"
    },
    "tags": []
   },
   "outputs": [
    {
     "name": "stdout",
     "output_type": "stream",
     "text": [
      "  PassengerId HomePlanet CryoSleep  Cabin  Destination   Age    VIP  \\\n",
      "0     0001_01     Europa     False  B/0/P  TRAPPIST-1e  39.0  False   \n",
      "1     0002_01      Earth     False  F/0/S  TRAPPIST-1e  24.0  False   \n",
      "2     0003_01     Europa     False  A/0/S  TRAPPIST-1e  58.0   True   \n",
      "3     0003_02     Europa     False  A/0/S  TRAPPIST-1e  33.0  False   \n",
      "4     0004_01      Earth     False  F/1/S  TRAPPIST-1e  16.0  False   \n",
      "\n",
      "   RoomService  FoodCourt  ShoppingMall     Spa  VRDeck               Name  \\\n",
      "0          0.0        0.0           0.0     0.0     0.0    Maham Ofracculy   \n",
      "1        109.0        9.0          25.0   549.0    44.0       Juanna Vines   \n",
      "2         43.0     3576.0           0.0  6715.0    49.0      Altark Susent   \n",
      "3          0.0     1283.0         371.0  3329.0   193.0       Solam Susent   \n",
      "4        303.0       70.0         151.0   565.0     2.0  Willy Santantines   \n",
      "\n",
      "   Transported  \n",
      "0        False  \n",
      "1         True  \n",
      "2        False  \n",
      "3        False  \n",
      "4         True  \n"
     ]
    },
    {
     "data": {
      "text/plain": [
       "PassengerId       0\n",
       "HomePlanet      201\n",
       "CryoSleep       217\n",
       "Cabin           199\n",
       "Destination     182\n",
       "Age             179\n",
       "VIP             203\n",
       "RoomService     181\n",
       "FoodCourt       183\n",
       "ShoppingMall    208\n",
       "Spa             183\n",
       "VRDeck          188\n",
       "Name            200\n",
       "Transported       0\n",
       "dtype: int64"
      ]
     },
     "execution_count": 2,
     "metadata": {},
     "output_type": "execute_result"
    }
   ],
   "source": [
    "df = pd.read_csv('/kaggle/input/spaceship-titanic/train.csv')\n",
    "print (df.head())\n",
    "df.isna().sum()\n"
   ]
  },
  {
   "cell_type": "markdown",
   "id": "7201a47d",
   "metadata": {
    "papermill": {
     "duration": 0.009526,
     "end_time": "2023-05-01T18:07:08.106201",
     "exception": false,
     "start_time": "2023-05-01T18:07:08.096675",
     "status": "completed"
    },
    "tags": []
   },
   "source": [
    "Since we have NAN values i believe we should handle them . now there are a number of ways we could go around this, we could delete the NAN values altogether and remove them from the dataframe or we could replace them with the means of features when it's fit. since the objective of this competition is to maximize the accuarcy of the model i will be dividing the data into different datasets depending on the method applied.\n",
    "# Cabin column\n",
    "I will transform the cabin column into two columns , one that has the cabin and its number and one that has the side of the cabin. first i will remove every instance of '/' to make the job easier and then i will split this column into three columns.\n",
    "First column : Deck , i found 8 unique strings in this column so i will transform it using the label encoder function into numerical values\n",
    "second column : Decknumber already numerical so we will leave it as is\n",
    "third column : this one has two unique values so we will make it binary"
   ]
  },
  {
   "cell_type": "code",
   "execution_count": 3,
   "id": "2d6a398a",
   "metadata": {
    "execution": {
     "iopub.execute_input": "2023-05-01T18:07:08.125598Z",
     "iopub.status.busy": "2023-05-01T18:07:08.125027Z",
     "iopub.status.idle": "2023-05-01T18:07:08.198502Z",
     "shell.execute_reply": "2023-05-01T18:07:08.196969Z"
    },
    "papermill": {
     "duration": 0.086627,
     "end_time": "2023-05-01T18:07:08.201461",
     "exception": false,
     "start_time": "2023-05-01T18:07:08.114834",
     "status": "completed"
    },
    "tags": []
   },
   "outputs": [
    {
     "name": "stdout",
     "output_type": "stream",
     "text": [
      "  PassengerId HomePlanet CryoSleep  Destination   Age    VIP  RoomService  \\\n",
      "0     0001_01     Europa     False  TRAPPIST-1e  39.0  False          0.0   \n",
      "1     0002_01      Earth     False  TRAPPIST-1e  24.0  False        109.0   \n",
      "2     0003_01     Europa     False  TRAPPIST-1e  58.0   True         43.0   \n",
      "3     0003_02     Europa     False  TRAPPIST-1e  33.0  False          0.0   \n",
      "4     0004_01      Earth     False  TRAPPIST-1e  16.0  False        303.0   \n",
      "\n",
      "   FoodCourt  ShoppingMall     Spa  VRDeck               Name  Transported  \\\n",
      "0        0.0           0.0     0.0     0.0    Maham Ofracculy        False   \n",
      "1        9.0          25.0   549.0    44.0       Juanna Vines         True   \n",
      "2     3576.0           0.0  6715.0    49.0      Altark Susent        False   \n",
      "3     1283.0         371.0  3329.0   193.0       Solam Susent        False   \n",
      "4       70.0         151.0   565.0     2.0  Willy Santantines         True   \n",
      "\n",
      "  DeckNumber  Deck  Side  \n",
      "0          0     1     0  \n",
      "1          0     5     1  \n",
      "2          0     0     1  \n",
      "3          0     0     1  \n",
      "4          1     5     1  \n"
     ]
    }
   ],
   "source": [
    "df['Cabin'] = df['Cabin'].str.replace('/', '')\n",
    "# extract deck and side information from the \"Cabin\" column\n",
    "df['Deck'] = df['Cabin'].str[0] # extract the first character of the \"Cabin\" column as the deck\n",
    "df['DeckNumber'] = df['Cabin'].str[1] # extract the remaining characters of the \"Cabin\" column as the deck number\n",
    "df['Side'] = df['Cabin'].str[-1] # extract the last character of the \"Cabin\" column as the side\n",
    "# drop the original \"Cabin\" column\n",
    "df.drop('Cabin', axis=1, inplace=True)\n",
    "# Fit and transform the 'Deck' column\n",
    "le = LabelEncoder()\n",
    "df['Deck_Numerical'] = le.fit_transform(df['Deck'].astype(str))\n",
    "df.drop('Deck', axis=1, inplace=True)\n",
    "#Side becomes binary#\n",
    "df['Side_Numerical'] = le.fit_transform(df['Side'].astype(str))\n",
    "#Display the modified dataset\n",
    "df.drop ('Side',axis=1, inplace=True)\n",
    "# Rename the 'Deck_Numerical' to 'Deck' and 'Side_Numerical' to 'Side'\n",
    "df.columns = ['Deck' if x=='Deck_Numerical' else x for x in df.columns]\n",
    "df.columns = ['Side' if x=='Side_Numerical' else x for x in df.columns]\n",
    "print (df.head())"
   ]
  },
  {
   "cell_type": "markdown",
   "id": "2e8da8f6",
   "metadata": {
    "papermill": {
     "duration": 0.008126,
     "end_time": "2023-05-01T18:07:08.218208",
     "exception": false,
     "start_time": "2023-05-01T18:07:08.210082",
     "status": "completed"
    },
    "tags": []
   },
   "source": [
    "# CryoSleep, VIP,Transported\n",
    "These features are all binary so we will just transform them as we did earlier into binary numerical values"
   ]
  },
  {
   "cell_type": "code",
   "execution_count": 4,
   "id": "fc4814e5",
   "metadata": {
    "execution": {
     "iopub.execute_input": "2023-05-01T18:07:08.237501Z",
     "iopub.status.busy": "2023-05-01T18:07:08.236431Z",
     "iopub.status.idle": "2023-05-01T18:07:08.282079Z",
     "shell.execute_reply": "2023-05-01T18:07:08.280802Z"
    },
    "papermill": {
     "duration": 0.058098,
     "end_time": "2023-05-01T18:07:08.284733",
     "exception": false,
     "start_time": "2023-05-01T18:07:08.226635",
     "status": "completed"
    },
    "tags": []
   },
   "outputs": [
    {
     "name": "stdout",
     "output_type": "stream",
     "text": [
      "  PassengerId HomePlanet  Destination   Age  RoomService  FoodCourt  \\\n",
      "0     0001_01     Europa  TRAPPIST-1e  39.0          0.0        0.0   \n",
      "1     0002_01      Earth  TRAPPIST-1e  24.0        109.0        9.0   \n",
      "2     0003_01     Europa  TRAPPIST-1e  58.0         43.0     3576.0   \n",
      "3     0003_02     Europa  TRAPPIST-1e  33.0          0.0     1283.0   \n",
      "4     0004_01      Earth  TRAPPIST-1e  16.0        303.0       70.0   \n",
      "\n",
      "   ShoppingMall     Spa  VRDeck               Name DeckNumber  Deck  Side  \\\n",
      "0           0.0     0.0     0.0    Maham Ofracculy          0     1     0   \n",
      "1          25.0   549.0    44.0       Juanna Vines          0     5     1   \n",
      "2           0.0  6715.0    49.0      Altark Susent          0     0     1   \n",
      "3         371.0  3329.0   193.0       Solam Susent          0     0     1   \n",
      "4         151.0   565.0     2.0  Willy Santantines          1     5     1   \n",
      "\n",
      "   CryoSleep  VIP  Transported  \n",
      "0          0    0            0  \n",
      "1          0    0            1  \n",
      "2          0    1            0  \n",
      "3          0    0            0  \n",
      "4          0    0            1  \n"
     ]
    }
   ],
   "source": [
    "#Define the new columns that are numerical \n",
    "df['CryoSleep_Numerical'] = le.fit_transform(df['CryoSleep'].astype(str))\n",
    "df['VIP_Numerical'] = le.fit_transform(df['VIP'].astype(str))\n",
    "df['Transported_Numerical'] = le.fit_transform(df['Transported'].astype(str))\n",
    "#Drop the old columns and rename new ones\n",
    "df.drop ('CryoSleep',axis=1, inplace=True)\n",
    "df.drop ('VIP',axis=1, inplace=True)\n",
    "df.drop ('Transported',axis=1, inplace=True)\n",
    "df.columns = ['CryoSleep' if x=='CryoSleep_Numerical' else x for x in df.columns]\n",
    "df.columns = ['VIP' if x=='VIP_Numerical' else x for x in df.columns]\n",
    "df.columns = ['Transported' if x=='Transported_Numerical' else x for x in df.columns]\n",
    "print(df.head())"
   ]
  },
  {
   "cell_type": "markdown",
   "id": "aa3467fe",
   "metadata": {
    "papermill": {
     "duration": 0.008218,
     "end_time": "2023-05-01T18:07:08.302573",
     "exception": false,
     "start_time": "2023-05-01T18:07:08.294355",
     "status": "completed"
    },
    "tags": []
   },
   "source": [
    "# PassengerID\n",
    "Thanks to the data description we know that this Column has a level of importance so we will not drop it instead we will divide it into two new columns called group and another called GroupNumber"
   ]
  },
  {
   "cell_type": "code",
   "execution_count": 5,
   "id": "4ca0190a",
   "metadata": {
    "execution": {
     "iopub.execute_input": "2023-05-01T18:07:08.321732Z",
     "iopub.status.busy": "2023-05-01T18:07:08.321138Z",
     "iopub.status.idle": "2023-05-01T18:07:08.352169Z",
     "shell.execute_reply": "2023-05-01T18:07:08.351310Z"
    },
    "papermill": {
     "duration": 0.044424,
     "end_time": "2023-05-01T18:07:08.355566",
     "exception": false,
     "start_time": "2023-05-01T18:07:08.311142",
     "status": "completed"
    },
    "tags": []
   },
   "outputs": [
    {
     "name": "stdout",
     "output_type": "stream",
     "text": [
      "  HomePlanet  Destination   Age  RoomService  FoodCourt  ShoppingMall     Spa  \\\n",
      "0     Europa  TRAPPIST-1e  39.0          0.0        0.0           0.0     0.0   \n",
      "1      Earth  TRAPPIST-1e  24.0        109.0        9.0          25.0   549.0   \n",
      "2     Europa  TRAPPIST-1e  58.0         43.0     3576.0           0.0  6715.0   \n",
      "3     Europa  TRAPPIST-1e  33.0          0.0     1283.0         371.0  3329.0   \n",
      "4      Earth  TRAPPIST-1e  16.0        303.0       70.0         151.0   565.0   \n",
      "\n",
      "   VRDeck               Name DeckNumber  Deck  Side  CryoSleep  VIP  \\\n",
      "0     0.0    Maham Ofracculy          0     1     0          0    0   \n",
      "1    44.0       Juanna Vines          0     5     1          0    0   \n",
      "2    49.0      Altark Susent          0     0     1          0    1   \n",
      "3   193.0       Solam Susent          0     0     1          0    0   \n",
      "4     2.0  Willy Santantines          1     5     1          0    0   \n",
      "\n",
      "   Transported Group GroupNumber  \n",
      "0            0  0001          01  \n",
      "1            1  0002          01  \n",
      "2            0  0003          01  \n",
      "3            0  0003          02  \n",
      "4            1  0004          01  \n"
     ]
    }
   ],
   "source": [
    "df['PassengerId'] = df['PassengerId'].str.replace('_', '')\n",
    "# create a new 'Group' column containing the first four characters of 'PassengerID'\n",
    "df['Group'] = df['PassengerId'].str[:4]\n",
    "\n",
    "# create a new 'GroupNumber' column containing the remaining characters of 'PassengerID'\n",
    "df['GroupNumber'] = df['PassengerId'].str[4:]\n",
    "df.drop ('PassengerId',axis=1, inplace=True)\n",
    "print(df.head())"
   ]
  },
  {
   "cell_type": "markdown",
   "id": "55411ff5",
   "metadata": {
    "papermill": {
     "duration": 0.011344,
     "end_time": "2023-05-01T18:07:08.380033",
     "exception": false,
     "start_time": "2023-05-01T18:07:08.368689",
     "status": "completed"
    },
    "tags": []
   },
   "source": [
    "# Homeplanet, Destination\n",
    "we will be transforming these into numerical values same as we have been doing so far"
   ]
  },
  {
   "cell_type": "code",
   "execution_count": 6,
   "id": "16d32492",
   "metadata": {
    "execution": {
     "iopub.execute_input": "2023-05-01T18:07:08.401317Z",
     "iopub.status.busy": "2023-05-01T18:07:08.400466Z",
     "iopub.status.idle": "2023-05-01T18:07:08.428191Z",
     "shell.execute_reply": "2023-05-01T18:07:08.426484Z"
    },
    "papermill": {
     "duration": 0.042062,
     "end_time": "2023-05-01T18:07:08.431103",
     "exception": false,
     "start_time": "2023-05-01T18:07:08.389041",
     "status": "completed"
    },
    "tags": []
   },
   "outputs": [
    {
     "name": "stdout",
     "output_type": "stream",
     "text": [
      "    Age  RoomService  FoodCourt  ShoppingMall     Spa  VRDeck  \\\n",
      "0  39.0          0.0        0.0           0.0     0.0     0.0   \n",
      "1  24.0        109.0        9.0          25.0   549.0    44.0   \n",
      "2  58.0         43.0     3576.0           0.0  6715.0    49.0   \n",
      "3  33.0          0.0     1283.0         371.0  3329.0   193.0   \n",
      "4  16.0        303.0       70.0         151.0   565.0     2.0   \n",
      "\n",
      "                Name DeckNumber  Deck  Side  CryoSleep  VIP  Transported  \\\n",
      "0    Maham Ofracculy          0     1     0          0    0            0   \n",
      "1       Juanna Vines          0     5     1          0    0            1   \n",
      "2      Altark Susent          0     0     1          0    1            0   \n",
      "3       Solam Susent          0     0     1          0    0            0   \n",
      "4  Willy Santantines          1     5     1          0    0            1   \n",
      "\n",
      "  Group GroupNumber  Destination  HomePlanet  \n",
      "0  0001          01            2           1  \n",
      "1  0002          01            2           0  \n",
      "2  0003          01            2           1  \n",
      "3  0003          02            2           1  \n",
      "4  0004          01            2           0  \n"
     ]
    }
   ],
   "source": [
    "#Define the new columns that are numerical \n",
    "df['Destination_Numerical'] = le.fit_transform(df['Destination'].astype(str))\n",
    "df['HomePlanet_Numerical'] = le.fit_transform(df['HomePlanet'].astype(str))\n",
    "#Drop the old columns and rename new ones\n",
    "df.drop ('HomePlanet',axis=1, inplace=True)\n",
    "df.drop ('Destination',axis=1, inplace=True)\n",
    "df.columns = ['Destination' if x=='Destination_Numerical' else x for x in df.columns]\n",
    "df.columns = ['HomePlanet' if x=='HomePlanet_Numerical' else x for x in df.columns]\n",
    "print(df.head())\n"
   ]
  },
  {
   "cell_type": "markdown",
   "id": "4fd96469",
   "metadata": {
    "papermill": {
     "duration": 0.008768,
     "end_time": "2023-05-01T18:07:08.449101",
     "exception": false,
     "start_time": "2023-05-01T18:07:08.440333",
     "status": "completed"
    },
    "tags": []
   },
   "source": [
    "Finally , we have transformed all of our categorical features into numerical ones save for the name.\n",
    "we will just drop this column.\n"
   ]
  },
  {
   "cell_type": "code",
   "execution_count": 7,
   "id": "d58b412f",
   "metadata": {
    "execution": {
     "iopub.execute_input": "2023-05-01T18:07:08.468512Z",
     "iopub.status.busy": "2023-05-01T18:07:08.468059Z",
     "iopub.status.idle": "2023-05-01T18:07:08.475181Z",
     "shell.execute_reply": "2023-05-01T18:07:08.473898Z"
    },
    "papermill": {
     "duration": 0.020221,
     "end_time": "2023-05-01T18:07:08.478003",
     "exception": false,
     "start_time": "2023-05-01T18:07:08.457782",
     "status": "completed"
    },
    "tags": []
   },
   "outputs": [],
   "source": [
    "df.drop ('Name',axis=1, inplace=True)\n"
   ]
  },
  {
   "cell_type": "markdown",
   "id": "7615a73a",
   "metadata": {
    "papermill": {
     "duration": 0.008262,
     "end_time": "2023-05-01T18:07:08.495374",
     "exception": false,
     "start_time": "2023-05-01T18:07:08.487112",
     "status": "completed"
    },
    "tags": []
   },
   "source": [
    "Finally the data has been treated , let's vizualize it!"
   ]
  },
  {
   "cell_type": "code",
   "execution_count": 8,
   "id": "21403dbf",
   "metadata": {
    "execution": {
     "iopub.execute_input": "2023-05-01T18:07:08.515379Z",
     "iopub.status.busy": "2023-05-01T18:07:08.514494Z",
     "iopub.status.idle": "2023-05-01T18:07:09.787162Z",
     "shell.execute_reply": "2023-05-01T18:07:09.786279Z"
    },
    "papermill": {
     "duration": 1.28758,
     "end_time": "2023-05-01T18:07:09.791552",
     "exception": false,
     "start_time": "2023-05-01T18:07:08.503972",
     "status": "completed"
    },
    "tags": []
   },
   "outputs": [
    {
     "data": {
      "text/plain": [
       "<AxesSubplot:>"
      ]
     },
     "execution_count": 8,
     "metadata": {},
     "output_type": "execute_result"
    },
    {
     "data": {
      "image/png": "[encoded data removed]",
      "text/plain": [
       "<Figure size 1000x800 with 2 Axes>"
      ]
     },
     "metadata": {},
     "output_type": "display_data"
    }
   ],
   "source": [
    "corr = df.corr()\n",
    "fig, ax = plt.subplots(figsize=(10, 8))\n",
    "sns.heatmap(corr, cmap=\"coolwarm\", annot=True)"
   ]
  },
  {
   "cell_type": "markdown",
   "id": "bdf56f11",
   "metadata": {
    "papermill": {
     "duration": 0.011326,
     "end_time": "2023-05-01T18:07:09.814782",
     "exception": false,
     "start_time": "2023-05-01T18:07:09.803456",
     "status": "completed"
    },
    "tags": []
   },
   "source": [
    "Great!! the final features we have created from the data show a high level of uncorrelation which indicates that each of our feature can contribute without causing an issue of multicollinearity!\n",
    "let's see if we need to scale our data now"
   ]
  },
  {
   "cell_type": "code",
   "execution_count": 9,
   "id": "03a59955",
   "metadata": {
    "execution": {
     "iopub.execute_input": "2023-05-01T18:07:09.840491Z",
     "iopub.status.busy": "2023-05-01T18:07:09.839759Z",
     "iopub.status.idle": "2023-05-01T18:07:09.905119Z",
     "shell.execute_reply": "2023-05-01T18:07:09.904104Z"
    },
    "papermill": {
     "duration": 0.080959,
     "end_time": "2023-05-01T18:07:09.907728",
     "exception": false,
     "start_time": "2023-05-01T18:07:09.826769",
     "status": "completed"
    },
    "tags": []
   },
   "outputs": [
    {
     "data": {
      "text/html": [
       "<div>\n",
       "<style scoped>\n",
       "    .dataframe tbody tr th:only-of-type {\n",
       "        vertical-align: middle;\n",
       "    }\n",
       "\n",
       "    .dataframe tbody tr th {\n",
       "        vertical-align: top;\n",
       "    }\n",
       "\n",
       "    .dataframe thead th {\n",
       "        text-align: right;\n",
       "    }\n",
       "</style>\n",
       "<table border=\"1\" class=\"dataframe\">\n",
       "  <thead>\n",
       "    <tr style=\"text-align: right;\">\n",
       "      <th></th>\n",
       "      <th>Age</th>\n",
       "      <th>RoomService</th>\n",
       "      <th>FoodCourt</th>\n",
       "      <th>ShoppingMall</th>\n",
       "      <th>Spa</th>\n",
       "      <th>VRDeck</th>\n",
       "      <th>Deck</th>\n",
       "      <th>Side</th>\n",
       "      <th>CryoSleep</th>\n",
       "      <th>VIP</th>\n",
       "      <th>Transported</th>\n",
       "      <th>Destination</th>\n",
       "      <th>HomePlanet</th>\n",
       "    </tr>\n",
       "  </thead>\n",
       "  <tbody>\n",
       "    <tr>\n",
       "      <th>count</th>\n",
       "      <td>8514.000000</td>\n",
       "      <td>8512.000000</td>\n",
       "      <td>8510.000000</td>\n",
       "      <td>8485.000000</td>\n",
       "      <td>8510.000000</td>\n",
       "      <td>8505.000000</td>\n",
       "      <td>8693.000000</td>\n",
       "      <td>8693.000000</td>\n",
       "      <td>8693.000000</td>\n",
       "      <td>8693.000000</td>\n",
       "      <td>8693.000000</td>\n",
       "      <td>8693.000000</td>\n",
       "      <td>8693.000000</td>\n",
       "    </tr>\n",
       "    <tr>\n",
       "      <th>mean</th>\n",
       "      <td>28.827930</td>\n",
       "      <td>224.687617</td>\n",
       "      <td>458.077203</td>\n",
       "      <td>173.729169</td>\n",
       "      <td>311.138778</td>\n",
       "      <td>304.854791</td>\n",
       "      <td>4.389969</td>\n",
       "      <td>0.539054</td>\n",
       "      <td>0.399287</td>\n",
       "      <td>0.069596</td>\n",
       "      <td>0.503624</td>\n",
       "      <td>1.515242</td>\n",
       "      <td>0.719199</td>\n",
       "    </tr>\n",
       "    <tr>\n",
       "      <th>std</th>\n",
       "      <td>14.489021</td>\n",
       "      <td>666.717663</td>\n",
       "      <td>1611.489240</td>\n",
       "      <td>604.696458</td>\n",
       "      <td>1136.705535</td>\n",
       "      <td>1145.717189</td>\n",
       "      <td>1.842573</td>\n",
       "      <td>0.542487</td>\n",
       "      <td>0.538345</td>\n",
       "      <td>0.333871</td>\n",
       "      <td>0.500016</td>\n",
       "      <td>0.840148</td>\n",
       "      <td>0.863402</td>\n",
       "    </tr>\n",
       "    <tr>\n",
       "      <th>min</th>\n",
       "      <td>0.000000</td>\n",
       "      <td>0.000000</td>\n",
       "      <td>0.000000</td>\n",
       "      <td>0.000000</td>\n",
       "      <td>0.000000</td>\n",
       "      <td>0.000000</td>\n",
       "      <td>0.000000</td>\n",
       "      <td>0.000000</td>\n",
       "      <td>0.000000</td>\n",
       "      <td>0.000000</td>\n",
       "      <td>0.000000</td>\n",
       "      <td>0.000000</td>\n",
       "      <td>0.000000</td>\n",
       "    </tr>\n",
       "    <tr>\n",
       "      <th>25%</th>\n",
       "      <td>19.000000</td>\n",
       "      <td>0.000000</td>\n",
       "      <td>0.000000</td>\n",
       "      <td>0.000000</td>\n",
       "      <td>0.000000</td>\n",
       "      <td>0.000000</td>\n",
       "      <td>3.000000</td>\n",
       "      <td>0.000000</td>\n",
       "      <td>0.000000</td>\n",
       "      <td>0.000000</td>\n",
       "      <td>0.000000</td>\n",
       "      <td>1.000000</td>\n",
       "      <td>0.000000</td>\n",
       "    </tr>\n",
       "    <tr>\n",
       "      <th>50%</th>\n",
       "      <td>27.000000</td>\n",
       "      <td>0.000000</td>\n",
       "      <td>0.000000</td>\n",
       "      <td>0.000000</td>\n",
       "      <td>0.000000</td>\n",
       "      <td>0.000000</td>\n",
       "      <td>5.000000</td>\n",
       "      <td>1.000000</td>\n",
       "      <td>0.000000</td>\n",
       "      <td>0.000000</td>\n",
       "      <td>1.000000</td>\n",
       "      <td>2.000000</td>\n",
       "      <td>0.000000</td>\n",
       "    </tr>\n",
       "    <tr>\n",
       "      <th>75%</th>\n",
       "      <td>38.000000</td>\n",
       "      <td>47.000000</td>\n",
       "      <td>76.000000</td>\n",
       "      <td>27.000000</td>\n",
       "      <td>59.000000</td>\n",
       "      <td>46.000000</td>\n",
       "      <td>6.000000</td>\n",
       "      <td>1.000000</td>\n",
       "      <td>1.000000</td>\n",
       "      <td>0.000000</td>\n",
       "      <td>1.000000</td>\n",
       "      <td>2.000000</td>\n",
       "      <td>1.000000</td>\n",
       "    </tr>\n",
       "    <tr>\n",
       "      <th>max</th>\n",
       "      <td>79.000000</td>\n",
       "      <td>14327.000000</td>\n",
       "      <td>29813.000000</td>\n",
       "      <td>23492.000000</td>\n",
       "      <td>22408.000000</td>\n",
       "      <td>24133.000000</td>\n",
       "      <td>8.000000</td>\n",
       "      <td>2.000000</td>\n",
       "      <td>2.000000</td>\n",
       "      <td>2.000000</td>\n",
       "      <td>1.000000</td>\n",
       "      <td>3.000000</td>\n",
       "      <td>3.000000</td>\n",
       "    </tr>\n",
       "  </tbody>\n",
       "</table>\n",
       "</div>"
      ],
      "text/plain": [
       "               Age   RoomService     FoodCourt  ShoppingMall           Spa  \\\n",
       "count  8514.000000   8512.000000   8510.000000   8485.000000   8510.000000   \n",
       "mean     28.827930    224.687617    458.077203    173.729169    311.138778   \n",
       "std      14.489021    666.717663   1611.489240    604.696458   1136.705535   \n",
       "min       0.000000      0.000000      0.000000      0.000000      0.000000   \n",
       "25%      19.000000      0.000000      0.000000      0.000000      0.000000   \n",
       "50%      27.000000      0.000000      0.000000      0.000000      0.000000   \n",
       "75%      38.000000     47.000000     76.000000     27.000000     59.000000   \n",
       "max      79.000000  14327.000000  29813.000000  23492.000000  22408.000000   \n",
       "\n",
       "             VRDeck         Deck         Side    CryoSleep          VIP  \\\n",
       "count   8505.000000  8693.000000  8693.000000  8693.000000  8693.000000   \n",
       "mean     304.854791     4.389969     0.539054     0.399287     0.069596   \n",
       "std     1145.717189     1.842573     0.542487     0.538345     0.333871   \n",
       "min        0.000000     0.000000     0.000000     0.000000     0.000000   \n",
       "25%        0.000000     3.000000     0.000000     0.000000     0.000000   \n",
       "50%        0.000000     5.000000     1.000000     0.000000     0.000000   \n",
       "75%       46.000000     6.000000     1.000000     1.000000     0.000000   \n",
       "max    24133.000000     8.000000     2.000000     2.000000     2.000000   \n",
       "\n",
       "       Transported  Destination   HomePlanet  \n",
       "count  8693.000000  8693.000000  8693.000000  \n",
       "mean      0.503624     1.515242     0.719199  \n",
       "std       0.500016     0.840148     0.863402  \n",
       "min       0.000000     0.000000     0.000000  \n",
       "25%       0.000000     1.000000     0.000000  \n",
       "50%       1.000000     2.000000     0.000000  \n",
       "75%       1.000000     2.000000     1.000000  \n",
       "max       1.000000     3.000000     3.000000  "
      ]
     },
     "execution_count": 9,
     "metadata": {},
     "output_type": "execute_result"
    }
   ],
   "source": [
    "df.describe()"
   ]
  },
  {
   "cell_type": "markdown",
   "id": "cfbf63ed",
   "metadata": {
    "papermill": {
     "duration": 0.011574,
     "end_time": "2023-05-01T18:07:09.931613",
     "exception": false,
     "start_time": "2023-05-01T18:07:09.920039",
     "status": "completed"
    },
    "tags": []
   },
   "source": [
    "There seems to be a significant level of disparity between our features so we will proceed to scaling the data"
   ]
  },
  {
   "cell_type": "code",
   "execution_count": 10,
   "id": "7523d074",
   "metadata": {
    "execution": {
     "iopub.execute_input": "2023-05-01T18:07:09.957575Z",
     "iopub.status.busy": "2023-05-01T18:07:09.956199Z",
     "iopub.status.idle": "2023-05-01T18:07:10.050389Z",
     "shell.execute_reply": "2023-05-01T18:07:10.049160Z"
    },
    "papermill": {
     "duration": 0.109854,
     "end_time": "2023-05-01T18:07:10.053116",
     "exception": false,
     "start_time": "2023-05-01T18:07:09.943262",
     "status": "completed"
    },
    "tags": []
   },
   "outputs": [
    {
     "name": "stdout",
     "output_type": "stream",
     "text": [
      "                Age   RoomService     FoodCourt  ShoppingMall           Spa  \\\n",
      "count  8.514000e+03  8.512000e+03  8.510000e+03  8.485000e+03  8.510000e+03   \n",
      "mean   6.217458e-17 -1.419082e-17 -1.669901e-17  5.443168e-18  2.087376e-17   \n",
      "std    1.000059e+00  1.000059e+00  1.000059e+00  1.000059e+00  1.000059e+00   \n",
      "min   -1.989756e+00 -3.370254e-01 -2.842738e-01 -2.873167e-01 -2.737359e-01   \n",
      "25%   -6.783417e-01 -3.370254e-01 -2.842738e-01 -2.873167e-01 -2.737359e-01   \n",
      "50%   -1.261671e-01 -3.370254e-01 -2.842738e-01 -2.873167e-01 -2.737359e-01   \n",
      "75%    6.330730e-01 -2.665267e-01 -2.371097e-01 -2.426636e-01 -2.218284e-01   \n",
      "max    3.462968e+00  2.115309e+01  1.821709e+01  3.856422e+01  1.944053e+01   \n",
      "\n",
      "            VRDeck    DeckNumber          Deck          Side     CryoSleep  \\\n",
      "count  8505.000000  8.494000e+03  8.693000e+03  8.693000e+03  8.693000e+03   \n",
      "mean      0.000000  7.026794e-17  1.062585e-16 -5.312927e-17 -4.270776e-17   \n",
      "std       1.000059  1.000059e+00  1.000058e+00  1.000058e+00  1.000058e+00   \n",
      "min      -0.266098 -1.239956e+00 -2.382658e+00 -9.937289e-01 -7.417357e-01   \n",
      "25%      -0.266098 -8.620793e-01 -7.544063e-01 -9.937289e-01 -7.417357e-01   \n",
      "50%      -0.266098 -4.842022e-01  3.310946e-01  8.497379e-01 -7.417357e-01   \n",
      "75%      -0.225946  6.494289e-01  8.738451e-01  8.497379e-01  1.115916e+00   \n",
      "max      20.798803  2.160937e+00  1.959346e+00  2.693205e+00  2.973567e+00   \n",
      "\n",
      "                VIP   Transported         Group   GroupNumber   Destination  \\\n",
      "count  8.693000e+03  8.693000e+03  8.693000e+03  8.693000e+03  8.693000e+03   \n",
      "mean   3.637312e-17  7.029412e-17 -2.615595e-17  4.740766e-17 -8.582421e-18   \n",
      "std    1.000058e+00  1.000058e+00  1.000058e+00  1.000058e+00  1.000058e+00   \n",
      "min   -2.084646e-01 -1.007274e+00 -1.734409e+00 -4.911615e-01 -1.803647e+00   \n",
      "25%   -2.084646e-01 -1.007274e+00 -8.665285e-01 -4.911615e-01 -6.133110e-01   \n",
      "50%   -2.084646e-01  9.927789e-01 -1.269106e-03 -4.911615e-01  5.770245e-01   \n",
      "75%   -2.084646e-01  9.927789e-01  8.422746e-01  4.574425e-01  5.770245e-01   \n",
      "max    5.782223e+00  9.927789e-01  1.739733e+00  6.149066e+00  1.767360e+00   \n",
      "\n",
      "         HomePlanet  \n",
      "count  8.693000e+03  \n",
      "mean  -8.337209e-17  \n",
      "std    1.000058e+00  \n",
      "min   -8.330310e-01  \n",
      "25%   -8.330310e-01  \n",
      "50%   -8.330310e-01  \n",
      "75%    3.252445e-01  \n",
      "max    2.641796e+00  \n"
     ]
    },
    {
     "data": {
      "text/plain": [
       "Age             179\n",
       "RoomService     181\n",
       "FoodCourt       183\n",
       "ShoppingMall    208\n",
       "Spa             183\n",
       "VRDeck          188\n",
       "DeckNumber      199\n",
       "Deck              0\n",
       "Side              0\n",
       "CryoSleep         0\n",
       "VIP               0\n",
       "Transported       0\n",
       "Group             0\n",
       "GroupNumber       0\n",
       "Destination       0\n",
       "HomePlanet        0\n",
       "dtype: int64"
      ]
     },
     "execution_count": 10,
     "metadata": {},
     "output_type": "execute_result"
    }
   ],
   "source": [
    "# Let's Scale the data !!!\n",
    "scaler = StandardScaler()\n",
    "scaled_data = scaler.fit_transform(df)\n",
    "\n",
    "# Convert the scaled data back to a dataframe\n",
    "df_scaled = pd.DataFrame(scaled_data, columns=df.columns)\n",
    "\n",
    "# Check the distribution of the scaled features\n",
    "print(df_scaled.describe())\n",
    "df.isna().sum()\n"
   ]
  },
  {
   "cell_type": "code",
   "execution_count": 11,
   "id": "322355b1",
   "metadata": {
    "execution": {
     "iopub.execute_input": "2023-05-01T18:07:10.080158Z",
     "iopub.status.busy": "2023-05-01T18:07:10.079737Z",
     "iopub.status.idle": "2023-05-01T18:07:10.330964Z",
     "shell.execute_reply": "2023-05-01T18:07:10.330066Z"
    },
    "papermill": {
     "duration": 0.267544,
     "end_time": "2023-05-01T18:07:10.333413",
     "exception": false,
     "start_time": "2023-05-01T18:07:10.065869",
     "status": "completed"
    },
    "tags": []
   },
   "outputs": [
    {
     "name": "stdout",
     "output_type": "stream",
     "text": [
      "    Age  RoomService  FoodCourt  ShoppingMall     Spa  VRDeck DeckNumber  \\\n",
      "0  39.0          0.0        0.0           0.0     0.0     0.0          0   \n",
      "1  24.0        109.0        9.0          25.0   549.0    44.0          0   \n",
      "2  58.0         43.0     3576.0           0.0  6715.0    49.0          0   \n",
      "3  33.0          0.0     1283.0         371.0  3329.0   193.0          0   \n",
      "4  16.0        303.0       70.0         151.0   565.0     2.0          1   \n",
      "\n",
      "   Deck  Side  CryoSleep  VIP  Transported Group GroupNumber  Destination  \\\n",
      "0     1     0          0    0            0  0001          01            2   \n",
      "1     5     1          0    0            1  0002          01            2   \n",
      "2     0     1          0    1            0  0003          01            2   \n",
      "3     0     1          0    0            0  0003          02            2   \n",
      "4     5     1          0    0            1  0004          01            2   \n",
      "\n",
      "   HomePlanet  \n",
      "0           1  \n",
      "1           0  \n",
      "2           1  \n",
      "3           1  \n",
      "4           0  \n"
     ]
    },
    {
     "data": {
      "image/png": "[encoded data removed]",
      "text/plain": [
       "<Figure size 640x480 with 1 Axes>"
      ]
     },
     "metadata": {},
     "output_type": "display_data"
    }
   ],
   "source": [
    "print (df.head())\n",
    "sns.histplot(df['DeckNumber'].dropna(), bins=50)\n",
    "plt.show()"
   ]
  },
  {
   "cell_type": "markdown",
   "id": "25da429f",
   "metadata": {
    "papermill": {
     "duration": 0.012445,
     "end_time": "2023-05-01T18:07:10.359002",
     "exception": false,
     "start_time": "2023-05-01T18:07:10.346557",
     "status": "completed"
    },
    "tags": []
   },
   "source": [
    "Okay so now it's finally time to fix the NAN values that we have avoided so far. There are many approaches we can use to handle this. We can outright remove rows that contain NAN values ar we could replace the NAN values with mean/mode that we can extract from the data, this is to my knowledge subjective so I will be tuning this now\n",
    "# Age\n",
    "For age and decknumber we will be repalcing the NAN values with the median of the age.\n",
    "# RoomService,FoodCourt, ShoppingMall, Spa and VRDeck\n",
    "Since the data contains continuous variables i believe its best to use the mean to replace the NAN values here\n",
    "# DeckNumber\n",
    "will drop the nan values"
   ]
  },
  {
   "cell_type": "code",
   "execution_count": 12,
   "id": "9ad74499",
   "metadata": {
    "execution": {
     "iopub.execute_input": "2023-05-01T18:07:10.385187Z",
     "iopub.status.busy": "2023-05-01T18:07:10.384790Z",
     "iopub.status.idle": "2023-05-01T18:07:10.409004Z",
     "shell.execute_reply": "2023-05-01T18:07:10.408153Z"
    },
    "papermill": {
     "duration": 0.039986,
     "end_time": "2023-05-01T18:07:10.411208",
     "exception": false,
     "start_time": "2023-05-01T18:07:10.371222",
     "status": "completed"
    },
    "tags": []
   },
   "outputs": [
    {
     "data": {
      "text/plain": [
       "Age             0\n",
       "RoomService     0\n",
       "FoodCourt       0\n",
       "ShoppingMall    0\n",
       "Spa             0\n",
       "VRDeck          0\n",
       "DeckNumber      0\n",
       "Deck            0\n",
       "Side            0\n",
       "CryoSleep       0\n",
       "VIP             0\n",
       "Transported     0\n",
       "Group           0\n",
       "GroupNumber     0\n",
       "Destination     0\n",
       "HomePlanet      0\n",
       "dtype: int64"
      ]
     },
     "execution_count": 12,
     "metadata": {},
     "output_type": "execute_result"
    }
   ],
   "source": [
    "#Replacing NAN with median for age \n",
    "median_age = df['Age'].median()\n",
    "df['Age'].fillna(median_age, inplace=True)\n",
    "#Replacing NAN with mean for RoomService,FoodCourt, ShoppingMall, Spa and VRDeck\n",
    "mean_RoomService = df['RoomService'].mean()\n",
    "df['RoomService'].fillna(mean_RoomService, inplace=True)\n",
    "mean_FoodCourt = df['FoodCourt'].mean()\n",
    "df['FoodCourt'].fillna(mean_FoodCourt, inplace=True)\n",
    "mean_ShoppingMall = df['ShoppingMall'].mean()\n",
    "df['ShoppingMall'].fillna(mean_ShoppingMall, inplace=True)\n",
    "mean_Spa = df['Spa'].mean()\n",
    "df['Spa'].fillna(mean_Spa, inplace=True)\n",
    "mean_VRDeck = df['VRDeck'].mean()\n",
    "df['VRDeck'].fillna(mean_VRDeck, inplace=True)\n",
    "#Dropping NAN DeckNumber\n",
    "df.dropna(subset=['Age'], inplace=True)\n",
    "df.dropna(subset=['DeckNumber'], inplace=True)\n",
    "df.isna().sum()"
   ]
  },
  {
   "cell_type": "markdown",
   "id": "20cc1c49",
   "metadata": {
    "papermill": {
     "duration": 0.012576,
     "end_time": "2023-05-01T18:07:10.436402",
     "exception": false,
     "start_time": "2023-05-01T18:07:10.423826",
     "status": "completed"
    },
    "tags": []
   },
   "source": [
    "We have finally dropped the NAN values, let's move on to training and testing our models.\n",
    "# I- Logistic Regression\n",
    "The first model we will train and test is the logistic regression model as its a very good classifier especially considering our outcome is binary. It seems like the perfect fit but we will have to test it out to see if that's true.\n"
   ]
  },
  {
   "cell_type": "code",
   "execution_count": 13,
   "id": "caa2b50b",
   "metadata": {
    "execution": {
     "iopub.execute_input": "2023-05-01T18:07:10.463973Z",
     "iopub.status.busy": "2023-05-01T18:07:10.462944Z",
     "iopub.status.idle": "2023-05-01T18:07:16.482033Z",
     "shell.execute_reply": "2023-05-01T18:07:16.480288Z"
    },
    "papermill": {
     "duration": 6.037623,
     "end_time": "2023-05-01T18:07:16.486471",
     "exception": false,
     "start_time": "2023-05-01T18:07:10.448848",
     "status": "completed"
    },
    "tags": []
   },
   "outputs": [
    {
     "name": "stdout",
     "output_type": "stream",
     "text": [
      "Accuracy: 0.7781047675103002\n"
     ]
    }
   ],
   "source": [
    "from sklearn.linear_model import LogisticRegression\n",
    "from sklearn.model_selection import train_test_split\n",
    "from sklearn.metrics import accuracy_score\n",
    "df_LR = df.copy()\n",
    "# Split the data into training and testing sets\n",
    "X_train, X_test, y_train, y_test = train_test_split(df_LR.drop('Transported', axis=1), df_LR['Transported'], test_size=0.2,random_state=42)\n",
    "# Create a logistic regression object\n",
    "logreg = LogisticRegression(solver='saga', max_iter=10000, C=0.001, penalty='l1')\n",
    "# Fit the model on the training data\n",
    "logreg.fit(X_train, y_train)\n",
    "# Make predictions on the testing data\n",
    "y_pred = logreg.predict(X_test)\n",
    "# Calculate the accuracy score\n",
    "accuracy = accuracy_score(y_test, y_pred)\n",
    "print(\"Accuracy:\", accuracy)"
   ]
  },
  {
   "cell_type": "markdown",
   "id": "c46586bb",
   "metadata": {
    "papermill": {
     "duration": 0.033464,
     "end_time": "2023-05-01T18:07:16.551688",
     "exception": false,
     "start_time": "2023-05-01T18:07:16.518224",
     "status": "completed"
    },
    "tags": []
   },
   "source": [
    "An initial runthrough of the logistic regression model provides us with an accuarcy of 0.773. This is a decent starting point but I believe we can get much more from logistic regression so let's move on to changing the hyperparameters in order to maximize the accuarcy.\n",
    "We will use GridSearchCV which automatically tests the model using different hyperparameters and selects the best ones.\n",
    "\n",
    "Running the following code nets us an accuarcy of  0.7737  and the Best hyperparameters:  {'C': 0.001, 'penalty': 'l1'}\n",
    "![GridSearchCode](https://i.imgur.com/m8kSTkt.png)\n",
    "\n",
    "I have decided to include this code in the  markdown section because it takes to long and i will just re run the regression using the parameters extracted in the cell above"
   ]
  },
  {
   "cell_type": "markdown",
   "id": "5bc23968",
   "metadata": {
    "papermill": {
     "duration": 0.020445,
     "end_time": "2023-05-01T18:07:16.605386",
     "exception": false,
     "start_time": "2023-05-01T18:07:16.584941",
     "status": "completed"
    },
    "tags": []
   },
   "source": [
    "so our first model leaves us with a meagre 0.7737 accuarcy.\n",
    "Moving on to the next..\n",
    "\n",
    "# II-KNN\n",
    "We will run a k nearest neighbors model on our data, we will use the same training and test set for a fair comparison between the models. First we will run a default knn without messing with any of the parameters and test its accuarcy"
   ]
  },
  {
   "cell_type": "code",
   "execution_count": 14,
   "id": "b0c2378a",
   "metadata": {
    "execution": {
     "iopub.execute_input": "2023-05-01T18:07:16.633211Z",
     "iopub.status.busy": "2023-05-01T18:07:16.632816Z",
     "iopub.status.idle": "2023-05-01T18:07:16.899569Z",
     "shell.execute_reply": "2023-05-01T18:07:16.898025Z"
    },
    "papermill": {
     "duration": 0.283837,
     "end_time": "2023-05-01T18:07:16.902189",
     "exception": false,
     "start_time": "2023-05-01T18:07:16.618352",
     "status": "completed"
    },
    "tags": []
   },
   "outputs": [
    {
     "name": "stdout",
     "output_type": "stream",
     "text": [
      "Accuracy: 0.7804590935844614\n"
     ]
    }
   ],
   "source": [
    "from sklearn.neighbors import KNeighborsClassifier\n",
    "# Create a KNN object with k=5\n",
    "knn = KNeighborsClassifier(n_neighbors=26)\n",
    "\n",
    "# Train the KNN model on the training data\n",
    "knn.fit(X_train, y_train)\n",
    "\n",
    "# Use the trained model to predict on the test data\n",
    "y_pred = knn.predict(X_test)\n",
    "\n",
    "# Calculate the accuracy of the model\n",
    "accuracy = accuracy_score(y_test, y_pred)\n",
    "print(\"Accuracy:\", accuracy)"
   ]
  },
  {
   "cell_type": "markdown",
   "id": "db8e8a09",
   "metadata": {
    "papermill": {
     "duration": 0.012858,
     "end_time": "2023-05-01T18:07:16.928474",
     "exception": false,
     "start_time": "2023-05-01T18:07:16.915616",
     "status": "completed"
    },
    "tags": []
   },
   "source": [
    "A 0.76 accuarcy , worse than the previous model. But earlier we were using perfect hyperparameters so it's a bit unfair to judge KNN just yet..\n",
    "\n",
    "Let's improve our KNN algorithm and pick the best parameters and see our accuarcy score. First we will try Bagging : "
   ]
  },
  {
   "cell_type": "code",
   "execution_count": 15,
   "id": "5b00dce3",
   "metadata": {
    "execution": {
     "iopub.execute_input": "2023-05-01T18:07:16.955888Z",
     "iopub.status.busy": "2023-05-01T18:07:16.955494Z",
     "iopub.status.idle": "2023-05-01T18:07:21.047818Z",
     "shell.execute_reply": "2023-05-01T18:07:21.046483Z"
    },
    "papermill": {
     "duration": 4.109398,
     "end_time": "2023-05-01T18:07:21.050690",
     "exception": false,
     "start_time": "2023-05-01T18:07:16.941292",
     "status": "completed"
    },
    "tags": []
   },
   "outputs": [],
   "source": [
    "from sklearn import metrics\n",
    "\n",
    "# calculating the accuracy of models with different values of k\n",
    "mean_acc = np.zeros(30)\n",
    "for i in range(1,30):\n",
    "    #Train Model and Predict  \n",
    "    knn = KNeighborsClassifier(n_neighbors = i).fit(X_train,y_train)\n",
    "    yhat= knn.predict(X_test)\n",
    "    mean_acc[i-1] = metrics.accuracy_score(y_test, yhat)\n",
    "\n",
    "mean_acc\n",
    "k = 21, 0.783402\n"
   ]
  },
  {
   "cell_type": "markdown",
   "id": "9d83f6c3",
   "metadata": {
    "papermill": {
     "duration": 0.01277,
     "end_time": "2023-05-01T18:07:21.076544",
     "exception": false,
     "start_time": "2023-05-01T18:07:21.063774",
     "status": "completed"
    },
    "tags": []
   },
   "source": [
    "Let's graph these results to see our optimal K values"
   ]
  },
  {
   "cell_type": "code",
   "execution_count": 16,
   "id": "7bc49dd4",
   "metadata": {
    "execution": {
     "iopub.execute_input": "2023-05-01T18:07:21.105087Z",
     "iopub.status.busy": "2023-05-01T18:07:21.104069Z",
     "iopub.status.idle": "2023-05-01T18:07:21.354804Z",
     "shell.execute_reply": "2023-05-01T18:07:21.353664Z"
    },
    "papermill": {
     "duration": 0.267421,
     "end_time": "2023-05-01T18:07:21.357275",
     "exception": false,
     "start_time": "2023-05-01T18:07:21.089854",
     "status": "completed"
    },
    "tags": []
   },
   "outputs": [
    {
     "data": {
      "image/png": "[encoded data removed]",
      "text/plain": [
       "<Figure size 2000x500 with 1 Axes>"
      ]
     },
     "metadata": {},
     "output_type": "display_data"
    }
   ],
   "source": [
    "loc = np.arange(1,21,step=1.0)\n",
    "plt.figure(figsize = (20, 5))\n",
    "plt.plot(range(1,31), mean_acc)\n",
    "plt.xticks(loc,rotation=45)\n",
    "\n",
    "plt.xlabel('Number of Neighbors ')\n",
    "plt.ylabel('Accuracy')\n",
    "plt.show()"
   ]
  },
  {
   "cell_type": "markdown",
   "id": "4a526889",
   "metadata": {
    "papermill": {
     "duration": 0.013157,
     "end_time": "2023-05-01T18:07:21.383962",
     "exception": false,
     "start_time": "2023-05-01T18:07:21.370805",
     "status": "completed"
    },
    "tags": []
   },
   "source": [
    "K = 26 gives us an accuarcy 0.7834020011771631, a great start.. let's set the remaining parameters.We will use exhaustive grid search to optimize the hyperparameters"
   ]
  },
  {
   "cell_type": "code",
   "execution_count": 17,
   "id": "88cdf9c8",
   "metadata": {
    "execution": {
     "iopub.execute_input": "2023-05-01T18:07:21.414916Z",
     "iopub.status.busy": "2023-05-01T18:07:21.414478Z",
     "iopub.status.idle": "2023-05-01T18:07:31.313729Z",
     "shell.execute_reply": "2023-05-01T18:07:31.312634Z"
    },
    "papermill": {
     "duration": 9.917077,
     "end_time": "2023-05-01T18:07:31.316073",
     "exception": false,
     "start_time": "2023-05-01T18:07:21.398996",
     "status": "completed"
    },
    "tags": []
   },
   "outputs": [
    {
     "name": "stdout",
     "output_type": "stream",
     "text": [
      "Fitting 3 folds for each of 36 candidates, totalling 108 fits\n",
      "Accuracy: 0.7804590935844614\n"
     ]
    }
   ],
   "source": [
    "from sklearn.model_selection import GridSearchCV\n",
    "grid_params = { 'n_neighbors' : [20,22,25,26,28,30],\n",
    "               'weights' : ['uniform','distance'],\n",
    "               'metric' : ['minkowski','euclidean','manhattan']}\n",
    "gs = GridSearchCV(KNeighborsClassifier(), grid_params, verbose = 1, cv=3, n_jobs = -1)\n",
    "# fit the model on our train set\n",
    "g_res = gs.fit(X_train, y_train)\n",
    "# find the best score\n",
    "g_res.best_score_\n",
    "# get the hyperparameters with the best score\n",
    "g_res.best_params_\n",
    "accuracy = accuracy_score(y_test, y_pred)\n",
    "print(\"Accuracy:\", accuracy)"
   ]
  },
  {
   "cell_type": "code",
   "execution_count": 18,
   "id": "9ee5e11f",
   "metadata": {
    "execution": {
     "iopub.execute_input": "2023-05-01T18:07:31.346175Z",
     "iopub.status.busy": "2023-05-01T18:07:31.345403Z",
     "iopub.status.idle": "2023-05-01T18:07:33.003089Z",
     "shell.execute_reply": "2023-05-01T18:07:33.001622Z"
    },
    "papermill": {
     "duration": 1.675945,
     "end_time": "2023-05-01T18:07:33.005756",
     "exception": false,
     "start_time": "2023-05-01T18:07:31.329811",
     "status": "completed"
    },
    "tags": []
   },
   "outputs": [
    {
     "name": "stdout",
     "output_type": "stream",
     "text": [
      "Training set accuracy:  0.7845474613686534\n",
      "Test set accuracy:  0.7804590935844614\n"
     ]
    }
   ],
   "source": [
    "# use the best hyperparameters\n",
    "knn = KNeighborsClassifier(n_neighbors = 26, weights = 'uniform',algorithm = 'brute',metric = 'minkowski')\n",
    "knn.fit(X_train, y_train)\n",
    "# get a prediction\n",
    "y_hat = knn.predict(X_train)\n",
    "y_knn = knn.predict(X_test)\n",
    "print('Training set accuracy: ', metrics.accuracy_score(y_train, y_hat))\n",
    "print('Test set accuracy: ',metrics.accuracy_score(y_test, y_knn))"
   ]
  },
  {
   "cell_type": "markdown",
   "id": "9ac9ae33",
   "metadata": {
    "papermill": {
     "duration": 0.013763,
     "end_time": "2023-05-01T18:07:33.033560",
     "exception": false,
     "start_time": "2023-05-01T18:07:33.019797",
     "status": "completed"
    },
    "tags": []
   },
   "source": [
    " So our final KNN accuarcy is 0.78340, and iprovement from our 0.7737 in Logistic Regression\n",
    " # III- Decision Trees : \n",
    " "
   ]
  },
  {
   "cell_type": "code",
   "execution_count": 19,
   "id": "4cee7582",
   "metadata": {
    "execution": {
     "iopub.execute_input": "2023-05-01T18:07:33.064402Z",
     "iopub.status.busy": "2023-05-01T18:07:33.063961Z",
     "iopub.status.idle": "2023-05-01T18:11:03.889098Z",
     "shell.execute_reply": "2023-05-01T18:11:03.887888Z"
    },
    "papermill": {
     "duration": 210.855908,
     "end_time": "2023-05-01T18:11:03.904484",
     "exception": false,
     "start_time": "2023-05-01T18:07:33.048576",
     "status": "completed"
    },
    "tags": []
   },
   "outputs": [
    {
     "name": "stdout",
     "output_type": "stream",
     "text": [
      "Best hyperparameters:  {'max_depth': 14, 'min_samples_leaf': 9, 'min_samples_split': 21}\n",
      "Accuracy score:  0.7711552612214865\n"
     ]
    }
   ],
   "source": [
    "from sklearn.tree import DecisionTreeClassifier\n",
    "from sklearn.model_selection import GridSearchCV\n",
    "\n",
    "# Define the decision tree classifier\n",
    "dt = DecisionTreeClassifier()\n",
    "\n",
    "# Define the hyperparameters to tune\n",
    "params = {\n",
    "    'max_depth': np.arange(14, 23),\n",
    "    'min_samples_split': np.arange(17, 26),\n",
    "    'min_samples_leaf': np.arange(1, 12)\n",
    "}\n",
    "\n",
    "# Perform grid search to find the best hyperparameters\n",
    "grid_search = GridSearchCV(dt, param_grid=params, cv=5)\n",
    "grid_search.fit(X_train, y_train)\n",
    "\n",
    "# Print the best hyperparameters and accuracy score\n",
    "print(\"Best hyperparameters: \", grid_search.best_params_)\n",
    "print(\"Accuracy score: \", grid_search.best_score_)\n",
    "#Best hyperparameters:  {'max_depth': 16, 'min_samples_leaf': 8, 'min_samples_split': 23} Accuracy score:  0.774981604120677"
   ]
  },
  {
   "cell_type": "code",
   "execution_count": 20,
   "id": "1cd4ad95",
   "metadata": {
    "execution": {
     "iopub.execute_input": "2023-05-01T18:11:03.933966Z",
     "iopub.status.busy": "2023-05-01T18:11:03.933550Z",
     "iopub.status.idle": "2023-05-01T18:13:56.404405Z",
     "shell.execute_reply": "2023-05-01T18:13:56.403050Z"
    },
    "papermill": {
     "duration": 172.50261,
     "end_time": "2023-05-01T18:13:56.420968",
     "exception": false,
     "start_time": "2023-05-01T18:11:03.918358",
     "status": "completed"
    },
    "tags": []
   },
   "outputs": [
    {
     "name": "stdout",
     "output_type": "stream",
     "text": [
      "Accuracy: 0.7804590935844614\n",
      "Confusion Matrix:\n",
      " [[603 250]\n",
      " [123 723]]\n",
      "Classification Report:\n",
      "               precision    recall  f1-score   support\n",
      "\n",
      "           0       0.83      0.71      0.76       853\n",
      "           1       0.74      0.85      0.79       846\n",
      "\n",
      "    accuracy                           0.78      1699\n",
      "   macro avg       0.79      0.78      0.78      1699\n",
      "weighted avg       0.79      0.78      0.78      1699\n",
      "\n"
     ]
    }
   ],
   "source": [
    "import pandas as pd\n",
    "import numpy as np\n",
    "import matplotlib.pyplot as plt\n",
    "import seaborn as sns\n",
    "from sklearn.model_selection import train_test_split, GridSearchCV\n",
    "from sklearn.preprocessing import StandardScaler\n",
    "from sklearn.metrics import accuracy_score, classification_report, confusion_matrix\n",
    "from sklearn.ensemble import RandomForestClassifier\n",
    "\n",
    "model = RandomForestClassifier(random_state=42)\n",
    "model.fit(X_train, y_train)\n",
    "# Step 6: Optimize the model\n",
    "param_grid = {\n",
    "    'n_estimators': [50, 100, 200],\n",
    "    'max_depth': [None, 10, 20, 30],\n",
    "    'min_samples_split': [2, 5, 10],\n",
    "    'min_samples_leaf': [1, 2, 4]\n",
    "}\n",
    "grid_search = GridSearchCV(model, param_grid, cv=5, scoring='accuracy', n_jobs=-1)\n",
    "grid_search.fit(X_train, y_train)\n",
    "best_model = grid_search.best_estimator_\n",
    "print(\"Accuracy:\", accuracy_score(y_test, y_pred))\n",
    "print(\"Confusion Matrix:\\n\", confusion_matrix(y_test, y_pred))\n",
    "print(\"Classification Report:\\n\", classification_report(y_test, y_pred))"
   ]
  }
 ],
 "metadata": {
  "kernelspec": {
   "display_name": "Python 3",
   "language": "python",
   "name": "python3"
  },
  "language_info": {
   "codemirror_mode": {
    "name": "ipython",
    "version": 3
   },
   "file_extension": ".py",
   "mimetype": "text/x-python",
   "name": "python",
   "nbconvert_exporter": "python",
   "pygments_lexer": "ipython3",
   "version": "3.7.12"
  },
  "papermill": {
   "default_parameters": {},
   "duration": 422.425442,
   "end_time": "2023-05-01T18:13:59.059224",
   "environment_variables": {},
   "exception": null,
   "input_path": "__notebook__.ipynb",
   "output_path": "__notebook__.ipynb",
   "parameters": {},
   "start_time": "2023-05-01T18:06:56.633782",
   "version": "2.4.0"
  }
 },
 "nbformat": 4,
 "nbformat_minor": 5
}
